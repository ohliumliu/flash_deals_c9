{
 "cells": [
  {
   "cell_type": "code",
   "execution_count": 4,
   "metadata": {
    "collapsed": false
   },
   "outputs": [],
   "source": [
    "products_df = sqlContext.read.format(\"jdbc\").options(\n",
    "url =\"jdbc:mysql://localhost:3306/flashdeals\",\n",
    "driver=\"com.mysql.jdbc.Driver\",\n",
    "dbtable=\"products\",\n",
    "user=\"root\",\n",
    "password=\"\"\n",
    ").load()"
   ]
  },
  {
   "cell_type": "code",
   "execution_count": 5,
   "metadata": {
    "collapsed": false
   },
   "outputs": [
    {
     "data": {
      "text/plain": [
       "46"
      ]
     },
     "execution_count": 5,
     "metadata": {},
     "output_type": "execute_result"
    }
   ],
   "source": [
    "products_df.count()"
   ]
  },
  {
   "cell_type": "code",
   "execution_count": 20,
   "metadata": {
    "collapsed": false
   },
   "outputs": [
    {
     "data": {
      "text/plain": [
       "[Row(id=2245, name=None, description=None, created_at=datetime.datetime(2016, 2, 15, 7, 5, 46), updated_at=datetime.datetime(2016, 4, 22, 3, 23, 13), detail_page_url=u'http://www.amazon.com/InnoGear%C2%AE-Aromatherapy-Essential-Ultrasonic-Humidifier/dp/B00V9JP8EE%3Fpsc%3D1%26SubscriptionId%3DAKIAJOWJPSCFZWOSUDAQ%26tag%3Ddealsoutlet04-20%26linkCode%3Dxm2%26camp%3D2025%26creative%3D165953%26creativeASIN%3DB00V9JP8EE', manufacturer=None, list_price=4999, title=u'InnoGear\\xae 100ml Aromatherapy Essential Oil Diffuser Portable Ultrasonic Cool Mist Aroma Humidifier with Color LED Lights Changing and Waterless Auto Shut-off Function for Home Office Bedroom Room', small_image_url=u'http://ecx.images-amazon.com/images/I/31IkV9cfmbL._SL75_.jpg', medium_image_url=u'http://ecx.images-amazon.com/images/I/31IkV9cfmbL._SL160_.jpg', price=4999, amount_saved=2600, percentage_saved=52, is_supersaver_shipping=False, is_prime=None, ASIN=u'B00V9JP8EE', merchant_id=1951, catalog_id=19, dealer_id=1)]"
      ]
     },
     "execution_count": 20,
     "metadata": {},
     "output_type": "execute_result"
    }
   ],
   "source": [
    "products_df.take(1)"
   ]
  },
  {
   "cell_type": "code",
   "execution_count": 28,
   "metadata": {
    "collapsed": false
   },
   "outputs": [
    {
     "data": {
      "text/plain": [
       "20"
      ]
     },
     "execution_count": 28,
     "metadata": {},
     "output_type": "execute_result"
    }
   ],
   "source": [
    "products_df.filter(\"catalog_id == 21\").count()"
   ]
  },
  {
   "cell_type": "code",
   "execution_count": null,
   "metadata": {
    "collapsed": true
   },
   "outputs": [],
   "source": []
  }
 ],
 "metadata": {
  "kernelspec": {
   "display_name": "Python 2",
   "language": "python",
   "name": "python2"
  },
  "language_info": {
   "codemirror_mode": {
    "name": "ipython",
    "version": 2
   },
   "file_extension": ".py",
   "mimetype": "text/x-python",
   "name": "python",
   "nbconvert_exporter": "python",
   "pygments_lexer": "ipython2",
   "version": "2.7.6"
  }
 },
 "nbformat": 4,
 "nbformat_minor": 1
}
